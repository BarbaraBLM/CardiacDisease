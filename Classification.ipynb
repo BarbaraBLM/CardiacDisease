{
 "cells": [
  {
   "cell_type": "code",
   "execution_count": 2,
   "metadata": {},
   "outputs": [],
   "source": [
    "using DataFrames, CSV, Plots, Statistics, MLJ"
   ]
  },
  {
   "cell_type": "markdown",
   "metadata": {},
   "source": [
    "## Loading dataset, treating missings and categorical columns"
   ]
  },
  {
   "cell_type": "code",
   "execution_count": 3,
   "metadata": {},
   "outputs": [
    {
     "data": {
      "text/html": [
       "<table class=\"data-frame\"><thead><tr><th></th><th>age</th><th>sex</th><th>cp</th><th>trestbps</th><th>chol</th><th>fbs</th><th>restecg</th><th>thalach</th><th>exang</th><th>oldpeak</th><th>slope</th></tr><tr><th></th><th>Int64</th><th>Cat…</th><th>Cat…</th><th>Int64</th><th>Int64</th><th>Cat…</th><th>Cat…</th><th>Int64</th><th>Cat…</th><th>Cat…</th><th>Cat…</th></tr></thead><tbody><p>297 rows × 14 columns (omitted printing of 3 columns)</p><tr><th>1</th><td>63</td><td>1</td><td>1</td><td>145</td><td>233</td><td>1</td><td>2</td><td>150</td><td>0</td><td>2.3</td><td>3</td></tr><tr><th>2</th><td>67</td><td>1</td><td>4</td><td>160</td><td>286</td><td>0</td><td>2</td><td>108</td><td>1</td><td>1.5</td><td>2</td></tr><tr><th>3</th><td>67</td><td>1</td><td>4</td><td>120</td><td>229</td><td>0</td><td>2</td><td>129</td><td>1</td><td>2.6</td><td>2</td></tr><tr><th>4</th><td>37</td><td>1</td><td>3</td><td>130</td><td>250</td><td>0</td><td>0</td><td>187</td><td>0</td><td>3.5</td><td>3</td></tr><tr><th>5</th><td>41</td><td>0</td><td>2</td><td>130</td><td>204</td><td>0</td><td>2</td><td>172</td><td>0</td><td>1.4</td><td>1</td></tr><tr><th>6</th><td>56</td><td>1</td><td>2</td><td>120</td><td>236</td><td>0</td><td>0</td><td>178</td><td>0</td><td>0.8</td><td>1</td></tr><tr><th>7</th><td>62</td><td>0</td><td>4</td><td>140</td><td>268</td><td>0</td><td>2</td><td>160</td><td>0</td><td>3.6</td><td>3</td></tr><tr><th>8</th><td>57</td><td>0</td><td>4</td><td>120</td><td>354</td><td>0</td><td>0</td><td>163</td><td>1</td><td>0.6</td><td>1</td></tr><tr><th>9</th><td>63</td><td>1</td><td>4</td><td>130</td><td>254</td><td>0</td><td>2</td><td>147</td><td>0</td><td>1.4</td><td>2</td></tr><tr><th>10</th><td>53</td><td>1</td><td>4</td><td>140</td><td>203</td><td>1</td><td>2</td><td>155</td><td>1</td><td>3.1</td><td>3</td></tr><tr><th>11</th><td>57</td><td>1</td><td>4</td><td>140</td><td>192</td><td>0</td><td>0</td><td>148</td><td>0</td><td>0.4</td><td>2</td></tr><tr><th>12</th><td>56</td><td>0</td><td>2</td><td>140</td><td>294</td><td>0</td><td>2</td><td>153</td><td>0</td><td>1.3</td><td>2</td></tr><tr><th>13</th><td>56</td><td>1</td><td>3</td><td>130</td><td>256</td><td>1</td><td>2</td><td>142</td><td>1</td><td>0.6</td><td>2</td></tr><tr><th>14</th><td>44</td><td>1</td><td>2</td><td>120</td><td>263</td><td>0</td><td>0</td><td>173</td><td>0</td><td>0.0</td><td>1</td></tr><tr><th>15</th><td>52</td><td>1</td><td>3</td><td>172</td><td>199</td><td>1</td><td>0</td><td>162</td><td>0</td><td>0.5</td><td>1</td></tr><tr><th>16</th><td>57</td><td>1</td><td>3</td><td>150</td><td>168</td><td>0</td><td>0</td><td>174</td><td>0</td><td>1.6</td><td>1</td></tr><tr><th>17</th><td>48</td><td>1</td><td>2</td><td>110</td><td>229</td><td>0</td><td>0</td><td>168</td><td>0</td><td>1.0</td><td>3</td></tr><tr><th>18</th><td>54</td><td>1</td><td>4</td><td>140</td><td>239</td><td>0</td><td>0</td><td>160</td><td>0</td><td>1.2</td><td>1</td></tr><tr><th>19</th><td>48</td><td>0</td><td>3</td><td>130</td><td>275</td><td>0</td><td>0</td><td>139</td><td>0</td><td>0.2</td><td>1</td></tr><tr><th>20</th><td>49</td><td>1</td><td>2</td><td>130</td><td>266</td><td>0</td><td>0</td><td>171</td><td>0</td><td>0.6</td><td>1</td></tr><tr><th>21</th><td>64</td><td>1</td><td>1</td><td>110</td><td>211</td><td>0</td><td>2</td><td>144</td><td>1</td><td>1.8</td><td>2</td></tr><tr><th>22</th><td>58</td><td>0</td><td>1</td><td>150</td><td>283</td><td>1</td><td>2</td><td>162</td><td>0</td><td>1.0</td><td>1</td></tr><tr><th>23</th><td>58</td><td>1</td><td>2</td><td>120</td><td>284</td><td>0</td><td>2</td><td>160</td><td>0</td><td>1.8</td><td>2</td></tr><tr><th>24</th><td>58</td><td>1</td><td>3</td><td>132</td><td>224</td><td>0</td><td>2</td><td>173</td><td>0</td><td>3.2</td><td>1</td></tr><tr><th>25</th><td>60</td><td>1</td><td>4</td><td>130</td><td>206</td><td>0</td><td>2</td><td>132</td><td>1</td><td>2.4</td><td>2</td></tr><tr><th>26</th><td>50</td><td>0</td><td>3</td><td>120</td><td>219</td><td>0</td><td>0</td><td>158</td><td>0</td><td>1.6</td><td>2</td></tr><tr><th>27</th><td>58</td><td>0</td><td>3</td><td>120</td><td>340</td><td>0</td><td>0</td><td>172</td><td>0</td><td>0.0</td><td>1</td></tr><tr><th>28</th><td>66</td><td>0</td><td>1</td><td>150</td><td>226</td><td>0</td><td>0</td><td>114</td><td>0</td><td>2.6</td><td>3</td></tr><tr><th>29</th><td>43</td><td>1</td><td>4</td><td>150</td><td>247</td><td>0</td><td>0</td><td>171</td><td>0</td><td>1.5</td><td>1</td></tr><tr><th>30</th><td>40</td><td>1</td><td>4</td><td>110</td><td>167</td><td>0</td><td>2</td><td>114</td><td>1</td><td>2.0</td><td>2</td></tr><tr><th>&vellip;</th><td>&vellip;</td><td>&vellip;</td><td>&vellip;</td><td>&vellip;</td><td>&vellip;</td><td>&vellip;</td><td>&vellip;</td><td>&vellip;</td><td>&vellip;</td><td>&vellip;</td><td>&vellip;</td></tr></tbody></table>"
      ],
      "text/latex": [
       "\\begin{tabular}{r|cccccccccccc}\n",
       "\t& age & sex & cp & trestbps & chol & fbs & restecg & thalach & exang & oldpeak & slope & \\\\\n",
       "\t\\hline\n",
       "\t& Int64 & Cat… & Cat… & Int64 & Int64 & Cat… & Cat… & Int64 & Cat… & Cat… & Cat… & \\\\\n",
       "\t\\hline\n",
       "\t1 & 63 & 1 & 1 & 145 & 233 & 1 & 2 & 150 & 0 & 2.3 & 3 & $\\dots$ \\\\\n",
       "\t2 & 67 & 1 & 4 & 160 & 286 & 0 & 2 & 108 & 1 & 1.5 & 2 & $\\dots$ \\\\\n",
       "\t3 & 67 & 1 & 4 & 120 & 229 & 0 & 2 & 129 & 1 & 2.6 & 2 & $\\dots$ \\\\\n",
       "\t4 & 37 & 1 & 3 & 130 & 250 & 0 & 0 & 187 & 0 & 3.5 & 3 & $\\dots$ \\\\\n",
       "\t5 & 41 & 0 & 2 & 130 & 204 & 0 & 2 & 172 & 0 & 1.4 & 1 & $\\dots$ \\\\\n",
       "\t6 & 56 & 1 & 2 & 120 & 236 & 0 & 0 & 178 & 0 & 0.8 & 1 & $\\dots$ \\\\\n",
       "\t7 & 62 & 0 & 4 & 140 & 268 & 0 & 2 & 160 & 0 & 3.6 & 3 & $\\dots$ \\\\\n",
       "\t8 & 57 & 0 & 4 & 120 & 354 & 0 & 0 & 163 & 1 & 0.6 & 1 & $\\dots$ \\\\\n",
       "\t9 & 63 & 1 & 4 & 130 & 254 & 0 & 2 & 147 & 0 & 1.4 & 2 & $\\dots$ \\\\\n",
       "\t10 & 53 & 1 & 4 & 140 & 203 & 1 & 2 & 155 & 1 & 3.1 & 3 & $\\dots$ \\\\\n",
       "\t11 & 57 & 1 & 4 & 140 & 192 & 0 & 0 & 148 & 0 & 0.4 & 2 & $\\dots$ \\\\\n",
       "\t12 & 56 & 0 & 2 & 140 & 294 & 0 & 2 & 153 & 0 & 1.3 & 2 & $\\dots$ \\\\\n",
       "\t13 & 56 & 1 & 3 & 130 & 256 & 1 & 2 & 142 & 1 & 0.6 & 2 & $\\dots$ \\\\\n",
       "\t14 & 44 & 1 & 2 & 120 & 263 & 0 & 0 & 173 & 0 & 0.0 & 1 & $\\dots$ \\\\\n",
       "\t15 & 52 & 1 & 3 & 172 & 199 & 1 & 0 & 162 & 0 & 0.5 & 1 & $\\dots$ \\\\\n",
       "\t16 & 57 & 1 & 3 & 150 & 168 & 0 & 0 & 174 & 0 & 1.6 & 1 & $\\dots$ \\\\\n",
       "\t17 & 48 & 1 & 2 & 110 & 229 & 0 & 0 & 168 & 0 & 1.0 & 3 & $\\dots$ \\\\\n",
       "\t18 & 54 & 1 & 4 & 140 & 239 & 0 & 0 & 160 & 0 & 1.2 & 1 & $\\dots$ \\\\\n",
       "\t19 & 48 & 0 & 3 & 130 & 275 & 0 & 0 & 139 & 0 & 0.2 & 1 & $\\dots$ \\\\\n",
       "\t20 & 49 & 1 & 2 & 130 & 266 & 0 & 0 & 171 & 0 & 0.6 & 1 & $\\dots$ \\\\\n",
       "\t21 & 64 & 1 & 1 & 110 & 211 & 0 & 2 & 144 & 1 & 1.8 & 2 & $\\dots$ \\\\\n",
       "\t22 & 58 & 0 & 1 & 150 & 283 & 1 & 2 & 162 & 0 & 1.0 & 1 & $\\dots$ \\\\\n",
       "\t23 & 58 & 1 & 2 & 120 & 284 & 0 & 2 & 160 & 0 & 1.8 & 2 & $\\dots$ \\\\\n",
       "\t24 & 58 & 1 & 3 & 132 & 224 & 0 & 2 & 173 & 0 & 3.2 & 1 & $\\dots$ \\\\\n",
       "\t25 & 60 & 1 & 4 & 130 & 206 & 0 & 2 & 132 & 1 & 2.4 & 2 & $\\dots$ \\\\\n",
       "\t26 & 50 & 0 & 3 & 120 & 219 & 0 & 0 & 158 & 0 & 1.6 & 2 & $\\dots$ \\\\\n",
       "\t27 & 58 & 0 & 3 & 120 & 340 & 0 & 0 & 172 & 0 & 0.0 & 1 & $\\dots$ \\\\\n",
       "\t28 & 66 & 0 & 1 & 150 & 226 & 0 & 0 & 114 & 0 & 2.6 & 3 & $\\dots$ \\\\\n",
       "\t29 & 43 & 1 & 4 & 150 & 247 & 0 & 0 & 171 & 0 & 1.5 & 1 & $\\dots$ \\\\\n",
       "\t30 & 40 & 1 & 4 & 110 & 167 & 0 & 2 & 114 & 1 & 2.0 & 2 & $\\dots$ \\\\\n",
       "\t$\\dots$ & $\\dots$ & $\\dots$ & $\\dots$ & $\\dots$ & $\\dots$ & $\\dots$ & $\\dots$ & $\\dots$ & $\\dots$ & $\\dots$ & $\\dots$ &  \\\\\n",
       "\\end{tabular}\n"
      ],
      "text/plain": [
       "297×14 DataFrame. Omitted printing of 6 columns\n",
       "│ Row │ age   │ sex  │ cp   │ trestbps │ chol  │ fbs  │ restecg │ thalach │\n",
       "│     │ \u001b[90mInt64\u001b[39m │ \u001b[90mCat…\u001b[39m │ \u001b[90mCat…\u001b[39m │ \u001b[90mInt64\u001b[39m    │ \u001b[90mInt64\u001b[39m │ \u001b[90mCat…\u001b[39m │ \u001b[90mCat…\u001b[39m    │ \u001b[90mInt64\u001b[39m   │\n",
       "├─────┼───────┼──────┼──────┼──────────┼───────┼──────┼─────────┼─────────┤\n",
       "│ 1   │ 63    │ 1    │ 1    │ 145      │ 233   │ 1    │ 2       │ 150     │\n",
       "│ 2   │ 67    │ 1    │ 4    │ 160      │ 286   │ 0    │ 2       │ 108     │\n",
       "│ 3   │ 67    │ 1    │ 4    │ 120      │ 229   │ 0    │ 2       │ 129     │\n",
       "│ 4   │ 37    │ 1    │ 3    │ 130      │ 250   │ 0    │ 0       │ 187     │\n",
       "│ 5   │ 41    │ 0    │ 2    │ 130      │ 204   │ 0    │ 2       │ 172     │\n",
       "│ 6   │ 56    │ 1    │ 2    │ 120      │ 236   │ 0    │ 0       │ 178     │\n",
       "│ 7   │ 62    │ 0    │ 4    │ 140      │ 268   │ 0    │ 2       │ 160     │\n",
       "│ 8   │ 57    │ 0    │ 4    │ 120      │ 354   │ 0    │ 0       │ 163     │\n",
       "│ 9   │ 63    │ 1    │ 4    │ 130      │ 254   │ 0    │ 2       │ 147     │\n",
       "│ 10  │ 53    │ 1    │ 4    │ 140      │ 203   │ 1    │ 2       │ 155     │\n",
       "⋮\n",
       "│ 287 │ 55    │ 0    │ 2    │ 132      │ 342   │ 0    │ 0       │ 166     │\n",
       "│ 288 │ 44    │ 1    │ 4    │ 120      │ 169   │ 0    │ 0       │ 144     │\n",
       "│ 289 │ 63    │ 1    │ 4    │ 140      │ 187   │ 0    │ 2       │ 144     │\n",
       "│ 290 │ 63    │ 0    │ 4    │ 124      │ 197   │ 0    │ 0       │ 136     │\n",
       "│ 291 │ 41    │ 1    │ 2    │ 120      │ 157   │ 0    │ 0       │ 182     │\n",
       "│ 292 │ 59    │ 1    │ 4    │ 164      │ 176   │ 1    │ 2       │ 90      │\n",
       "│ 293 │ 57    │ 0    │ 4    │ 140      │ 241   │ 0    │ 0       │ 123     │\n",
       "│ 294 │ 45    │ 1    │ 1    │ 110      │ 264   │ 0    │ 0       │ 132     │\n",
       "│ 295 │ 68    │ 1    │ 4    │ 144      │ 193   │ 1    │ 0       │ 141     │\n",
       "│ 296 │ 57    │ 1    │ 4    │ 130      │ 131   │ 0    │ 0       │ 115     │\n",
       "│ 297 │ 57    │ 0    │ 2    │ 130      │ 236   │ 0    │ 2       │ 174     │"
      ]
     },
     "execution_count": 3,
     "metadata": {},
     "output_type": "execute_result"
    }
   ],
   "source": [
    "function openClevelandData(path::String)\n",
    "\n",
    "    # Oppening the DataFrame\n",
    "    cleveland = DataFrame(CSV.File(path; header =  [:age, :sex, :cp, :trestbps, :chol, :fbs, :restecg, :thalach, :exang, :oldpeak, :slope, :ca, :thal, :target]))\n",
    "\n",
    "    # Treating missings\n",
    "    allowmissing!(cleveland)\n",
    "    cleveland .= ifelse.(cleveland .==\"?\", missing, cleveland)\n",
    "    dropmissing!(cleveland)\n",
    "\n",
    "    # Converting some colunms to Int\n",
    "    cleveland.age = convert.(Int, cleveland.age)\n",
    "    cleveland.sex = convert.(Int, cleveland.sex)\n",
    "    cleveland.cp = convert.(Int, cleveland.cp)\n",
    "    cleveland.trestbps = convert.(Int, cleveland.trestbps)\n",
    "    cleveland.chol = convert.(Int, cleveland.chol)\n",
    "    cleveland.fbs = convert.(Int, cleveland.fbs)\n",
    "    cleveland.restecg = convert.(Int, cleveland.restecg)\n",
    "    cleveland.thalach = convert.(Int, cleveland.thalach)\n",
    "    cleveland.exang = convert.(Int, cleveland.exang)\n",
    "    cleveland.slope = convert.(Int, cleveland.slope)\n",
    "    cleveland.target = convert.(Int, cleveland.target)\n",
    "    \n",
    "    \n",
    "    #Converting ca and thal from String to Int\n",
    "    cleveland.ca, cleveland.thal = parse.(Float64, cleveland.ca), parse.(Float64, cleveland.thal)\n",
    "    cleveland.ca, cleveland.thal = convert.(Int, cleveland.ca), convert.(Int, cleveland.thal)\n",
    "    \n",
    "    #Converting categorical values\n",
    "    cleveland.sex = categorical(cleveland.sex)\n",
    "    cleveland.cp = categorical(cleveland.cp)\n",
    "    cleveland.fbs = categorical(cleveland.fbs)\n",
    "    cleveland.restecg = categorical(cleveland.restecg)\n",
    "    cleveland.exang = categorical(cleveland.exang)\n",
    "    cleveland.oldpeak = categorical(cleveland.oldpeak)\n",
    "    cleveland.slope = categorical(cleveland.slope)\n",
    "    cleveland.thal = categorical(cleveland.thal)\n",
    "    \n",
    "\n",
    "    cleveland\n",
    "\n",
    "end\n",
    "\n",
    "cleveland = openClevelandData(\"Data\\\\processed.cleveland.data\")"
   ]
  },
  {
   "cell_type": "markdown",
   "metadata": {},
   "source": [
    "## Separating the input (X) and the result column (y)"
   ]
  },
  {
   "cell_type": "code",
   "execution_count": 4,
   "metadata": {},
   "outputs": [],
   "source": [
    "y, X = unpack(cleveland, ==(:target), colname -> true);"
   ]
  },
  {
   "cell_type": "markdown",
   "metadata": {},
   "source": [
    "## Particionating dataset into train and test and transforming the result in binary\n",
    "We'll run logistic regression, so our output needs to be binary."
   ]
  },
  {
   "cell_type": "code",
   "execution_count": 5,
   "metadata": {},
   "outputs": [],
   "source": [
    "for i = 1:size(y)[1]\n",
    "   y[i] == 0 ? y[i] = 0 : y[i] = 1\n",
    "end\n",
    "\n",
    "\n",
    "train, test = partition(eachindex(y), 0.75, stratify=y);"
   ]
  },
  {
   "cell_type": "markdown",
   "metadata": {},
   "source": [
    "## Running Logistic Regression"
   ]
  },
  {
   "cell_type": "code",
   "execution_count": 6,
   "metadata": {},
   "outputs": [
    {
     "name": "stderr",
     "output_type": "stream",
     "text": [
      "┌ Warning: The scitype of `X`, in `machine(model, X, ...)` \n",
      "└ @ MLJBase C:\\Users\\Rogerio\\.julia\\packages\\MLJBase\\uMlf8\\src\\machines.jl:73\n"
     ]
    },
    {
     "data": {
      "text/plain": [
       "\u001b[34mMachine{LogisticClassifier} @615\u001b[39m trained 0 times.\n",
       "  args: \n",
       "    1:\t\u001b[34mSource @380\u001b[39m ⏎ `Table{Union{AbstractArray{Count,1}, AbstractArray{Multiclass{40},1}, AbstractArray{Multiclass{4},1}, AbstractArray{Multiclass{2},1}, AbstractArray{Multiclass{3},1}}}`\n",
       "    2:\t\u001b[34mSource @098\u001b[39m ⏎ `AbstractArray{Multiclass{2},1}`\n"
      ]
     },
     "execution_count": 6,
     "metadata": {},
     "output_type": "execute_result"
    }
   ],
   "source": [
    "using MLJLinearModels\n",
    "LRClassifier =  MLJLinearModels.LogisticClassifier()\n",
    "\n",
    "LR = machine(LRClassifier, X, categorical(y))"
   ]
  },
  {
   "cell_type": "code",
   "execution_count": 7,
   "metadata": {},
   "outputs": [
    {
     "name": "stderr",
     "output_type": "stream",
     "text": [
      "┌ Info: Training \u001b[34mMachine{LogisticClassifier} @615\u001b[39m.\n",
      "└ @ MLJBase C:\\Users\\Rogerio\\.julia\\packages\\MLJBase\\uMlf8\\src\\machines.jl:317\n"
     ]
    }
   ],
   "source": [
    "MLJ.fit!(LR, rows=train);\n",
    "ŷ = MLJ.predict(LR, X[test,:]);"
   ]
  },
  {
   "cell_type": "markdown",
   "metadata": {},
   "source": [
    "### Analysing metrics"
   ]
  },
  {
   "cell_type": "code",
   "execution_count": 28,
   "metadata": {},
   "outputs": [
    {
     "name": "stdout",
     "output_type": "stream",
     "text": [
      "Acurácia: 81.08108108108108%"
     ]
    }
   ],
   "source": [
    "print(\"Acurácia: \",(accuracy(mode.(ŷ), categorical(y[test])))*100, \"%\")"
   ]
  },
  {
   "cell_type": "code",
   "execution_count": 13,
   "metadata": {},
   "outputs": [
    {
     "name": "stderr",
     "output_type": "stream",
     "text": [
      "┌ Warning: The classes are un-ordered,\n",
      "│ using: negative='0' and positive='1'.\n",
      "│ To suppress this warning, consider coercing to OrderedFactor.\n",
      "└ @ MLJBase C:\\Users\\Rogerio\\.julia\\packages\\MLJBase\\uMlf8\\src\\measures\\confusion_matrix.jl:83\n"
     ]
    },
    {
     "data": {
      "text/plain": [
       "              ┌───────────────────────────┐\n",
       "              │       Ground Truth        │\n",
       "┌─────────────┼─────────────┬─────────────┤\n",
       "│  Predicted  │      0      │      1      │\n",
       "├─────────────┼─────────────┼─────────────┤\n",
       "│      0      │     37      │     11      │\n",
       "├─────────────┼─────────────┼─────────────┤\n",
       "│      1      │      3      │     23      │\n",
       "└─────────────┴─────────────┴─────────────┘\n"
      ]
     },
     "execution_count": 13,
     "metadata": {},
     "output_type": "execute_result"
    }
   ],
   "source": [
    "confusion_matrix(mode.(ŷ), categorical(y[test]))"
   ]
  },
  {
   "cell_type": "markdown",
   "metadata": {},
   "source": [
    "#### Considering the total of 74 instances, we have:"
   ]
  },
  {
   "cell_type": "code",
   "execution_count": 29,
   "metadata": {},
   "outputs": [
    {
     "name": "stdout",
     "output_type": "stream",
     "text": [
      "True negative = 45.76271186440678%\n",
      "True Positive = 27.11864406779661%\n",
      "False Negative = 18.64406779661017%\n",
      "False Positive = 8.47457627118644%\n",
      "\n"
     ]
    }
   ],
   "source": [
    "print(\"True negative = \", (TN/Total)*100, \"%\\nTrue Positive = \", (TP/Total)*100, \"%\\nFalse Negative = \", (FN/Total)*100, \"%\\nFalse Positive = \", (FP/Total)*100, \"%\\n\\n\")"
   ]
  },
  {
   "cell_type": "markdown",
   "metadata": {},
   "source": [
    "#### Considering the total of 26 positive classifications, we have:"
   ]
  },
  {
   "cell_type": "code",
   "execution_count": 30,
   "metadata": {},
   "outputs": [
    {
     "name": "stdout",
     "output_type": "stream",
     "text": [
      "True Positive = 61.53846153846154%\n",
      "False Positive = 19.230769230769234%\n",
      "\n"
     ]
    }
   ],
   "source": [
    "print(\"True Positive = \", (TP/TotalP)*100, \"%\\nFalse Positive = \", (FP/TotalP)*100, \"%\\n\\n\")"
   ]
  },
  {
   "cell_type": "markdown",
   "metadata": {},
   "source": [
    "#### Considering the total of 48 negative classifications, we have:"
   ]
  },
  {
   "cell_type": "code",
   "execution_count": 31,
   "metadata": {},
   "outputs": [
    {
     "name": "stdout",
     "output_type": "stream",
     "text": [
      "True Negative = 56.25%\n",
      "False Negative = 22.916666666666664%\n",
      "\n"
     ]
    }
   ],
   "source": [
    "print(\"True Negative = \", (TN/TotalN)*100, \"%\\nFalse Negative = \", (FN/TotalN)*100, \"%\\n\\n\")"
   ]
  }
 ],
 "metadata": {
  "kernelspec": {
   "display_name": "Julia 1.4.2",
   "language": "julia",
   "name": "julia-1.4"
  },
  "language_info": {
   "file_extension": ".jl",
   "mimetype": "application/julia",
   "name": "julia",
   "version": "1.4.2"
  }
 },
 "nbformat": 4,
 "nbformat_minor": 4
}
